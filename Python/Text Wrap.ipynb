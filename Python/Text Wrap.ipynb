{
 "cells": [
  {
   "cell_type": "markdown",
   "metadata": {},
   "source": [
    "# Text Wrap"
   ]
  },
  {
   "cell_type": "markdown",
   "metadata": {},
   "source": [
    "You are given a string S and width w.  \n",
    "Your task is to wrap the string into a paragraph of width w.  \n",
    "\n",
    "__Input Format__  \n",
    "\n",
    "The first line contains a string, S.  \n",
    "The second line contains the width, w.  \n",
    "\n",
    "__Output Format__  \n",
    "\n",
    "Print the text wrapped paragraph.  \n",
    "\n",
    "__Sample Input 0__  \n",
    "\n",
    "ABCDEFGHIJKLIMNOQRSTUVWXYZ  \n",
    "4  \n",
    "\n",
    "__Sample Output 0__  \n",
    "\n",
    "ABCD  \n",
    "EFGH  \n",
    "IJKL  \n",
    "IMNO  \n",
    "QRST  \n",
    "UVWX  \n",
    "YZ  "
   ]
  },
  {
   "cell_type": "code",
   "execution_count": 13,
   "metadata": {},
   "outputs": [
    {
     "name": "stdout",
     "output_type": "stream",
     "text": [
      "asdfghjklpoiuytrewqzxcvbnm\n",
      "4\n",
      "asdf\n",
      "ghjk\n",
      "lpoi\n",
      "uytr\n",
      "ewqz\n",
      "xcvb\n",
      "nm\n",
      "\n"
     ]
    }
   ],
   "source": [
    "import textwrap\n",
    "\n",
    "def wrap(string, max_width):\n",
    "    result=\"\"\n",
    "    wrapper = textwrap.TextWrapper(width=max_width) \n",
    "  \n",
    "    word_list = wrapper.wrap(text=string) \n",
    "     \n",
    "    for element in range(len(word_list)): \n",
    "        result+=word_list[element]+\"\\n\"\n",
    "    return result\n",
    "        \n",
    "\n",
    "if __name__ == '__main__':\n",
    "    string, max_width = input(), int(input())\n",
    "    result = wrap(string, max_width)\n",
    "    print(result)"
   ]
  },
  {
   "cell_type": "code",
   "execution_count": null,
   "metadata": {},
   "outputs": [],
   "source": []
  }
 ],
 "metadata": {
  "kernelspec": {
   "display_name": "Python 3",
   "language": "python",
   "name": "python3"
  },
  "language_info": {
   "codemirror_mode": {
    "name": "ipython",
    "version": 3
   },
   "file_extension": ".py",
   "mimetype": "text/x-python",
   "name": "python",
   "nbconvert_exporter": "python",
   "pygments_lexer": "ipython3",
   "version": "3.7.0"
  }
 },
 "nbformat": 4,
 "nbformat_minor": 2
}
