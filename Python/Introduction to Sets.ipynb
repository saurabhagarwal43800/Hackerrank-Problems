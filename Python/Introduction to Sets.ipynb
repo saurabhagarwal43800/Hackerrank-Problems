{
 "cells": [
  {
   "cell_type": "markdown",
   "metadata": {},
   "source": [
    "# Introduction to Sets"
   ]
  },
  {
   "cell_type": "markdown",
   "metadata": {},
   "source": [
    "### Task  \n",
    "\n",
    "Now, let's use our knowledge of sets and help Mickey.  \n",
    "\n",
    "Ms. Gabriel Williams is a botany professor at District College. One day, she asked her student Mickey to compute the average of all the plants with distinct heights in her greenhouse.  \n",
    "\n",
    "### Formula used:  \n",
    "\n",
    "> Average = Sum of Distinct Heights / Total number of Distinct Heights  \n",
    "\n",
    "### Input Format  \n",
    "\n",
    "The first line contains the integer, N, the total number of plants.  \n",
    "The second line contains the N space separated heights of the plants.  \n",
    "\n",
    "### Output Format  \n",
    "\n",
    "Output the average height value on a single line.  \n",
    "\n",
    "### Sample Input\n",
    "\n",
    "10  \n",
    "161 182 161 154 176 170 167 171 170 174  \n",
    "\n",
    "### Sample Output\n",
    "\n",
    "169.375  \n",
    "\n",
    "### Main Code"
   ]
  },
  {
   "cell_type": "code",
   "execution_count": 1,
   "metadata": {},
   "outputs": [
    {
     "name": "stdout",
     "output_type": "stream",
     "text": [
      "10\n",
      "161 182 161 154 176 170 167 171 170 174\n",
      "169.375\n"
     ]
    }
   ],
   "source": [
    "def average(array):\n",
    "    # your code goes here\n",
    "    array=set(array)\n",
    "    s=sum(array)\n",
    "    avg=s/len(array)\n",
    "    return avg\n",
    "\n",
    "if __name__ == '__main__':\n",
    "    n = int(input())\n",
    "    arr = list(map(int, input().split()))\n",
    "    result = average(arr)\n",
    "    print(result)"
   ]
  },
  {
   "cell_type": "code",
   "execution_count": null,
   "metadata": {},
   "outputs": [],
   "source": []
  }
 ],
 "metadata": {
  "kernelspec": {
   "display_name": "Python 3",
   "language": "python",
   "name": "python3"
  },
  "language_info": {
   "codemirror_mode": {
    "name": "ipython",
    "version": 3
   },
   "file_extension": ".py",
   "mimetype": "text/x-python",
   "name": "python",
   "nbconvert_exporter": "python",
   "pygments_lexer": "ipython3",
   "version": "3.7.0"
  }
 },
 "nbformat": 4,
 "nbformat_minor": 2
}
