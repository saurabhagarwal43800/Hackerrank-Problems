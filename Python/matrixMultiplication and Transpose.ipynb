{
 "cells": [
  {
   "cell_type": "markdown",
   "metadata": {},
   "source": [
    "# Write a program to multiply two matrix/array of N*N and result N^2 * N^2"
   ]
  },
  {
   "cell_type": "code",
   "execution_count": 15,
   "metadata": {},
   "outputs": [
    {
     "name": "stdout",
     "output_type": "stream",
     "text": [
      "Enter the size of dimension: 2\n",
      "\n",
      "Enter the elements in matrix X of 2*2 dimension\n",
      "Enter row 1 with 2 elements:2 4\n",
      "Enter row 2 with 2 elements:5 7\n",
      "\n",
      "Enter the elements in matrix Y of 2*2 dimension\n",
      "Enter row 1 with 2 elements:5 7\n",
      "Enter row 2 with 2 elements:6 9\n",
      "\n",
      " [[10, 24, 14, 36], [25, 42, 35, 63], [10, 35, 12, 45], [20, 49, 24, 63]]\n"
     ]
    }
   ],
   "source": [
    "if __name__==\"__main__\":\n",
    "    \n",
    "    R=[]\n",
    "    print(\"Enter the size of dimension: \",end=\"\")\n",
    "    N=int(input())\n",
    "    \n",
    "    print(\"\\nEnter the elements in matrix X of %d*%d dimension\"% (N, N))\n",
    "    X=enterElements(N)\n",
    "    \n",
    "    print(\"\\nEnter the elements in matrix Y of %d*%d dimension\"% (N, N))\n",
    "    Y=enterElements(N)\n",
    "    \n",
    "    #Function Call\n",
    "    mul=multiplication(X,Y,N)\n",
    "    \n",
    "    #Function Call\n",
    "    tpx=transpose(X,N)\n",
    "    tpy=transpose(Y,N)\n",
    "    tp=multiplication(tpx,tpy,N)\n",
    "    \n",
    "    for i in range(N):\n",
    "        if i%2==0:\n",
    "            R+=mul\n",
    "        else:\n",
    "            R+=tp\n",
    "    \n",
    "    print(\"\\n\",R)\n",
    "            \n",
    "    "
   ]
  },
  {
   "cell_type": "code",
   "execution_count": 13,
   "metadata": {},
   "outputs": [],
   "source": [
    "# Function used to input elements in an array from the user\n",
    "def enterElements(N):\n",
    "    \n",
    "    B = [[0 for x in range(N)] for y in range(N)] \n",
    "    for i in range(0,N):\n",
    "        B[i]=list(map(int, input(\"Enter row %d with %d elements:\"%(i+1,N)).rstrip().split()))\n",
    "    return B"
   ]
  },
  {
   "cell_type": "code",
   "execution_count": 12,
   "metadata": {},
   "outputs": [],
   "source": [
    "# Function to perform multiplication of X and Y according to the requirement\n",
    "def multiplication(X,Y,N):\n",
    "    \n",
    "    M = [[0 for x in range(N*N)] for y in range(N)]\n",
    "    a=0\n",
    "    for i in X:\n",
    "        n=0\n",
    "        b=0\n",
    "        while n<N:\n",
    "            m=0\n",
    "            for j in Y:\n",
    "                M[a][b]=i[m]*j[n]\n",
    "                m+=1\n",
    "                b+=1\n",
    "            n+=1\n",
    "        a+=1\n",
    "    return M"
   ]
  },
  {
   "cell_type": "code",
   "execution_count": 14,
   "metadata": {},
   "outputs": [],
   "source": [
    "# Function to find the transpose of the array\n",
    "def transpose(O,N):\n",
    "    \n",
    "    T = [[0 for x in range(N)] for y in range(N)]\n",
    "    for i in range(N): \n",
    "        for j in range(N): \n",
    "            T[i][j] = O[j][i]\n",
    "    return T"
   ]
  },
  {
   "cell_type": "code",
   "execution_count": null,
   "metadata": {},
   "outputs": [],
   "source": []
  },
  {
   "cell_type": "code",
   "execution_count": null,
   "metadata": {},
   "outputs": [],
   "source": []
  }
 ],
 "metadata": {
  "kernelspec": {
   "display_name": "Python 3",
   "language": "python",
   "name": "python3"
  },
  "language_info": {
   "codemirror_mode": {
    "name": "ipython",
    "version": 3
   },
   "file_extension": ".py",
   "mimetype": "text/x-python",
   "name": "python",
   "nbconvert_exporter": "python",
   "pygments_lexer": "ipython3",
   "version": "3.7.0"
  }
 },
 "nbformat": 4,
 "nbformat_minor": 2
}
