{
 "cells": [
  {
   "cell_type": "markdown",
   "metadata": {},
   "source": [
    "# sWAP cASE"
   ]
  },
  {
   "cell_type": "markdown",
   "metadata": {},
   "source": [
    "__Input Format__  \n",
    "\n",
    "A single line containing a string S.  \n",
    "\n",
    "__Output Format__  \n",
    "\n",
    "Print the modified string S.  \n",
    "\n",
    "__Sample Input 0__\n",
    "\n",
    "HackerRank.com presents \"Pythonist 2\".  \n",
    "\n",
    "__Sample Output 0__  \n",
    "\n",
    "hACKERrANK.COM PRESENTS \"pYTHONIST 2\"."
   ]
  },
  {
   "cell_type": "code",
   "execution_count": 25,
   "metadata": {},
   "outputs": [
    {
     "name": "stdout",
     "output_type": "stream",
     "text": [
      "Saj xbdw 232 csgJBUknBJ\n",
      "sAJ XBDW 232 CSGjbuKNbj\n"
     ]
    }
   ],
   "source": [
    "def swap_case(s):\n",
    "    sl=list(s)\n",
    "    swap=[]\n",
    "    final=\"\"\n",
    "    for i in sl:\n",
    "        if i.isalpha():\n",
    "            if i.islower():\n",
    "                swap.append(i.upper())\n",
    "            elif i.isupper():\n",
    "                swap.append(i.lower())\n",
    "        else:\n",
    "            swap.append(i)\n",
    "    for i in swap:\n",
    "        final+=\"\".join(i)\n",
    "    return final\n",
    "\n",
    "\n",
    "if __name__ == '__main__':\n",
    "    s = input()\n",
    "    result = swap_case(s)\n",
    "    print(result)"
   ]
  },
  {
   "cell_type": "code",
   "execution_count": null,
   "metadata": {},
   "outputs": [],
   "source": []
  }
 ],
 "metadata": {
  "kernelspec": {
   "display_name": "Python 3",
   "language": "python",
   "name": "python3"
  },
  "language_info": {
   "codemirror_mode": {
    "name": "ipython",
    "version": 3
   },
   "file_extension": ".py",
   "mimetype": "text/x-python",
   "name": "python",
   "nbconvert_exporter": "python",
   "pygments_lexer": "ipython3",
   "version": "3.7.0"
  }
 },
 "nbformat": 4,
 "nbformat_minor": 2
}
