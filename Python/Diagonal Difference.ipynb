{
 "cells": [
  {
   "cell_type": "markdown",
   "metadata": {},
   "source": [
    "# Diagonal Difference"
   ]
  },
  {
   "cell_type": "markdown",
   "metadata": {},
   "source": [
    "Given a square matrix, calculate the absolute difference between the sums of its diagonals.\n",
    "\n",
    "For example, the square matrix arr is shown below:\n",
    "\n",
    "1 2 3\n",
    "4 5 6\n",
    "9 8 9  \n",
    "The left-to-right diagonal =1+5+9=15. The right to left diagonal =3+5+9=17. Their absolute difference is |15-17|=2."
   ]
  },
  {
   "cell_type": "markdown",
   "metadata": {},
   "source": [
    "__Input Format__  \n",
    "\n",
    "The first line contains a single integer, n, the number of rows and columns in the matrix arr.  \n",
    "Each of the next n lines describes a row, arr[i], and consists of n space-separated integers arr[i][j]."
   ]
  },
  {
   "cell_type": "markdown",
   "metadata": {},
   "source": [
    "__Output Format__  \n",
    "\n",
    "Print the absolute difference between the sums of the matrix's two diagonals as a single integer.  \n",
    "\n",
    "__Sample Input__  \n",
    "\n",
    "3  \n",
    "11 2 4  \n",
    "4 5 6  \n",
    "10 8 -12  \n",
    "\n",
    "__Sample Output__  \n",
    "\n",
    "15  "
   ]
  },
  {
   "cell_type": "markdown",
   "metadata": {},
   "source": [
    "__Explanation__  \n",
    "\n",
    "The primary diagonal is:  \n",
    "\n",
    "11  \n",
    "5  \n",
    "-12  \n",
    "Sum across the primary diagonal: 11 + 5 - 12 = 4  \n",
    "\n",
    "The secondary diagonal is:  \n",
    "\n",
    "4  \n",
    "5  \n",
    "10  \n",
    "\n",
    "Sum across the secondary diagonal: 4 + 5 + 10 = 19  \n",
    "Difference: |4 - 19| = 15  \n",
    "\n",
    "Note: |x| is the absolute value of x  "
   ]
  },
  {
   "cell_type": "code",
   "execution_count": 4,
   "metadata": {},
   "outputs": [
    {
     "name": "stdout",
     "output_type": "stream",
     "text": [
      "3\n",
      "11 2 4\n",
      "2 5 7\n",
      "1 5 8\n",
      "24\n",
      "10\n",
      "14\n"
     ]
    }
   ],
   "source": [
    "#!/bin/python3\n",
    "\n",
    "import math\n",
    "import os\n",
    "import random\n",
    "import re\n",
    "import sys\n",
    "\n",
    "#\n",
    "# Complete the 'diagonalDifference' function below.\n",
    "#\n",
    "# The function is expected to return an INTEGER.\n",
    "# The function accepts 2D_INTEGER_ARRAY arr as parameter.\n",
    "#\n",
    "\n",
    "def diagonalDifference(arr,n):\n",
    "    sum=0\n",
    "    sum1=0\n",
    "    for m in range(n):\n",
    "        for z in range(n):\n",
    "            if m==z:\n",
    "                sum+=arr[m][z]\n",
    "            if (m+z)==(n-1):\n",
    "                sum1+=arr[m][z]\n",
    "    print(sum)\n",
    "    print(sum1)\n",
    "    d=sum-sum1\n",
    "    return abs(d)\n",
    "    \n",
    "\n",
    "if __name__ == '__main__':\n",
    "\n",
    "    n = int(input().strip())\n",
    "\n",
    "    arr = []\n",
    "\n",
    "    for _ in range(n):\n",
    "        arr.append(list(map(int, input().rstrip().split())))\n",
    "\n",
    "    result = diagonalDifference(arr,n)\n",
    "\n",
    "    print(result)\n"
   ]
  },
  {
   "cell_type": "code",
   "execution_count": null,
   "metadata": {},
   "outputs": [],
   "source": []
  }
 ],
 "metadata": {
  "kernelspec": {
   "display_name": "Python 3",
   "language": "python",
   "name": "python3"
  },
  "language_info": {
   "codemirror_mode": {
    "name": "ipython",
    "version": 3
   },
   "file_extension": ".py",
   "mimetype": "text/x-python",
   "name": "python",
   "nbconvert_exporter": "python",
   "pygments_lexer": "ipython3",
   "version": "3.7.0"
  }
 },
 "nbformat": 4,
 "nbformat_minor": 2
}
