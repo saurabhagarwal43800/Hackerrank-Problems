{
 "cells": [
  {
   "cell_type": "markdown",
   "metadata": {},
   "source": [
    "# Capitalize"
   ]
  },
  {
   "cell_type": "markdown",
   "metadata": {},
   "source": [
    "You are asked to ensure that the first and last names of people begin with a capital letter in their passports. For example, alison heck should be capitalised correctly as Alison Heck.  \n",
    "__alison heck => Alison Heck__  \n",
    "\n",
    "Given a full name, your task is to capitalize the name appropriately.    \n",
    "\n",
    "### Input Format  \n",
    "\n",
    "A single line of input containing the full name, S.   \n",
    "\n",
    "### Output Format  \n",
    "\n",
    "Print the capitalized string, S.  \n",
    "\n",
    "### Sample Input  \n",
    "\n",
    "chris alan  \n",
    "\n",
    "### Sample Output  \n",
    "\n",
    "Chris Alan  \n",
    "\n",
    "### Main Code  "
   ]
  },
  {
   "cell_type": "code",
   "execution_count": 1,
   "metadata": {},
   "outputs": [
    {
     "name": "stdout",
     "output_type": "stream",
     "text": [
      "saurabh agarwal\n",
      "Saurabh Agarwal\n"
     ]
    }
   ],
   "source": [
    "#!/bin/python3\n",
    "\n",
    "import math\n",
    "import os\n",
    "import random\n",
    "import re\n",
    "import sys\n",
    "\n",
    "# Complete the solve function below.\n",
    "def solve(s):\n",
    "    new=[]\n",
    "    l=s.split(\" \")\n",
    "    for i in range(len(l)):\n",
    "        new.append(l[i].capitalize())\n",
    "    return \" \".join(new)\n",
    "\n",
    "if __name__ == '__main__':\n",
    "\n",
    "    s = input()\n",
    "\n",
    "    result = solve(s)\n",
    "\n",
    "    print(result)"
   ]
  },
  {
   "cell_type": "code",
   "execution_count": null,
   "metadata": {},
   "outputs": [],
   "source": []
  }
 ],
 "metadata": {
  "kernelspec": {
   "display_name": "Python 3",
   "language": "python",
   "name": "python3"
  },
  "language_info": {
   "codemirror_mode": {
    "name": "ipython",
    "version": 3
   },
   "file_extension": ".py",
   "mimetype": "text/x-python",
   "name": "python",
   "nbconvert_exporter": "python",
   "pygments_lexer": "ipython3",
   "version": "3.7.0"
  }
 },
 "nbformat": 4,
 "nbformat_minor": 2
}
