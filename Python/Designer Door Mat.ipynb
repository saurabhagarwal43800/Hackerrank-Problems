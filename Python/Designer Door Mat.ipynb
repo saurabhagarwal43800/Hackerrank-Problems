{
 "cells": [
  {
   "cell_type": "markdown",
   "metadata": {},
   "source": [
    "# Designer Door Mat"
   ]
  },
  {
   "cell_type": "markdown",
   "metadata": {},
   "source": [
    "Mr. Vincent works in a door mat manufacturing company. One day, he designed a new door mat with the following specifications:  \n",
    "\n",
    "Mat size must be X. ( is an odd natural number, and  is  times .)  \n",
    "The design should have 'WELCOME' written in the center.  \n",
    "The design pattern should only use |, . and - characters.  \n",
    "\n",
    "__Sample Designs__  \n",
    "\n",
    "    Size: 7 x 21  \n",
    "    \n",
    "    ---------.|.---------\n",
    "    ------.|..|..|.------\n",
    "    ---.|..|..|..|..|.---\n",
    "    -------WELCOME-------\n",
    "    ---.|..|..|..|..|.---\n",
    "    ------.|..|..|.------\n",
    "    ---------.|.---------     \n",
    "    \n",
    "    Size: 11 x 33\n",
    "    ---------------.|.---------------\n",
    "    ------------.|..|..|.------------\n",
    "    ---------.|..|..|..|..|.---------\n",
    "    ------.|..|..|..|..|..|..|.------\n",
    "    ---.|..|..|..|..|..|..|..|..|.---\n",
    "    -------------WELCOME-------------\n",
    "    ---.|..|..|..|..|..|..|..|..|.---\n",
    "    ------.|..|..|..|..|..|..|.------\n",
    "    ---------.|..|..|..|..|.---------\n",
    "    ------------.|..|..|.------------\n",
    "    ---------------.|.---------------\n",
    "\n",
    "__Input Format__  \n",
    "\n",
    "A single line containing the space separated values of N and M.  \n",
    "\n",
    "__Output Format__  \n",
    "\n",
    "Output the design pattern.  \n",
    "\n",
    "__Sample Input__  \n",
    "\n",
    "9 27  \n",
    "\n",
    "__Sample Output__\n",
    "\n",
    "    ------------.|.------------  \n",
    "    ---------.|..|..|.---------  \n",
    "    ------.|..|..|..|..|.------  \n",
    "    ---.|..|..|..|..|..|..|.---  \n",
    "    ----------WELCOME----------  \n",
    "    ---.|..|..|..|..|..|..|.---  \n",
    "    ------.|..|..|..|..|.------  \n",
    "    ---------.|..|..|.---------  \n",
    "    ------------.|.------------  \n"
   ]
  },
  {
   "cell_type": "code",
   "execution_count": 62,
   "metadata": {},
   "outputs": [
    {
     "name": "stdout",
     "output_type": "stream",
     "text": [
      "7 21\n",
      "---------.|.---------\n",
      "------.|..|..|.------\n",
      "---.|..|..|..|..|.---\n",
      "-------WELCOME-------\n",
      "---.|..|..|..|..|.---\n",
      "------.|..|..|.------\n",
      "---------.|.---------\n"
     ]
    }
   ],
   "source": [
    "N,M=input().rstrip().split()\n",
    "M=int(M)\n",
    "N=int(N)\n",
    "rows=N//2\n",
    "\n",
    "#Top mat\n",
    "thickness=(M-3)//2\n",
    "c=1\n",
    "for i in range(rows):\n",
    "    print(('-'*thickness)+('.|.'*c)+('-'*thickness))\n",
    "    thickness-=3\n",
    "    c+=2\n",
    "\n",
    "#Middle mat    \n",
    "thickness=(M-7)//2\n",
    "print(('-'*thickness)+\"WELCOME\"+('-'*thickness))\n",
    "\n",
    "#Bottom mat\n",
    "thickness=3\n",
    "c=(M-(thickness*2))//3\n",
    "for i in range(rows,0,-1):\n",
    "    print(('-'*thickness)+('.|.'*c)+('-'*thickness))\n",
    "    thickness+=3\n",
    "    c-=2"
   ]
  }
 ],
 "metadata": {
  "kernelspec": {
   "display_name": "Python 3",
   "language": "python",
   "name": "python3"
  },
  "language_info": {
   "codemirror_mode": {
    "name": "ipython",
    "version": 3
   },
   "file_extension": ".py",
   "mimetype": "text/x-python",
   "name": "python",
   "nbconvert_exporter": "python",
   "pygments_lexer": "ipython3",
   "version": "3.7.0"
  }
 },
 "nbformat": 4,
 "nbformat_minor": 2
}
