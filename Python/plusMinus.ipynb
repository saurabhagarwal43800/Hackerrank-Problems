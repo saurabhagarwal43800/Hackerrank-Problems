{
 "cells": [
  {
   "cell_type": "markdown",
   "metadata": {},
   "source": [
    "# Plus Minus"
   ]
  },
  {
   "cell_type": "markdown",
   "metadata": {},
   "source": [
    "Given an array of integers, calculate the fractions of its elements that are positive, negative, and are zeros. Print the decimal value of each fraction on a new line."
   ]
  },
  {
   "cell_type": "markdown",
   "metadata": {},
   "source": [
    "__Input Format__  \n",
    "\n",
    "The first line contains an integer, n, denoting the size of the array.  \n",
    "The second line contains n space-separated integers describing an array of numbers arr(arr[0],arr[1],arr[2],....arr[n-1])."
   ]
  },
  {
   "cell_type": "markdown",
   "metadata": {},
   "source": [
    "__Output Format__  \n",
    "\n",
    "You must print the following  lines:  \n",
    "\n",
    "A decimal representing of the fraction of positive numbers in the array compared to its size.  \n",
    "A decimal representing of the fraction of negative numbers in the array compared to its size.  \n",
    "A decimal representing of the fraction of zeros in the array compared to its size.  "
   ]
  },
  {
   "cell_type": "markdown",
   "metadata": {},
   "source": [
    "__Sample Input__  \n",
    "\n",
    "6  \n",
    "-4 3 -9 0 4 1  "
   ]
  },
  {
   "cell_type": "markdown",
   "metadata": {},
   "source": [
    "__Sample Output__  \n",
    "\n",
    "0.500000  \n",
    "0.333333  \n",
    "0.166667  "
   ]
  },
  {
   "cell_type": "code",
   "execution_count": 2,
   "metadata": {},
   "outputs": [
    {
     "name": "stdout",
     "output_type": "stream",
     "text": [
      "6\n",
      "-4 3 -9 0 -6 15\n",
      "0.333333\n",
      "0.5\n",
      "0.166667\n"
     ]
    }
   ],
   "source": [
    "#!/bin/python3\n",
    "\n",
    "import math\n",
    "import os\n",
    "import random\n",
    "import re\n",
    "import sys\n",
    "\n",
    "# Complete the plusMinus function below.\n",
    "def plusMinus(arr):\n",
    "    l=len(arr)\n",
    "    p=0\n",
    "    n=0\n",
    "    z=0\n",
    "    for i in arr:\n",
    "        if i>0:\n",
    "            p=p+1\n",
    "        elif i<0:\n",
    "            n=n+1\n",
    "        else:\n",
    "            z=z+1\n",
    "    print(round((p/l),6))\n",
    "    print(round((n/l),6))\n",
    "    print(round((z/l),6))\n",
    "\n",
    "if __name__ == '__main__':\n",
    "    n = int(input())\n",
    "\n",
    "    arr = list(map(int, input().rstrip().split()))\n",
    "\n",
    "    plusMinus(arr)\n"
   ]
  },
  {
   "cell_type": "code",
   "execution_count": null,
   "metadata": {},
   "outputs": [],
   "source": []
  }
 ],
 "metadata": {
  "kernelspec": {
   "display_name": "Python 3",
   "language": "python",
   "name": "python3"
  },
  "language_info": {
   "codemirror_mode": {
    "name": "ipython",
    "version": 3
   },
   "file_extension": ".py",
   "mimetype": "text/x-python",
   "name": "python",
   "nbconvert_exporter": "python",
   "pygments_lexer": "ipython3",
   "version": "3.7.0"
  }
 },
 "nbformat": 4,
 "nbformat_minor": 2
}
