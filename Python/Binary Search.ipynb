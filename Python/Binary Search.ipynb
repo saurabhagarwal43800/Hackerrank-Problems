{
 "cells": [
  {
   "cell_type": "markdown",
   "metadata": {},
   "source": [
    "# Binary Search in Python"
   ]
  },
  {
   "cell_type": "code",
   "execution_count": 52,
   "metadata": {},
   "outputs": [
    {
     "name": "stdout",
     "output_type": "stream",
     "text": [
      "Element is present at index  0\n"
     ]
    }
   ],
   "source": [
    "# Python3 code to implement Binary Search.  \n",
    "# It returns location of x in given array arr  if present, else returns -1\n",
    "\n",
    "def binarySearch(arr, find): \n",
    "    l=0\n",
    "    r=len(arr)-1\n",
    "    while l <= r: \n",
    "        \n",
    "        # Calculate mid index \n",
    "        mid = l + (r - l) // 2; \n",
    "          \n",
    "        # Check if find is present at mid \n",
    "        if arr[mid] == find: \n",
    "            return mid \n",
    "  \n",
    "        # If find is greater, ignore left half \n",
    "        elif arr[mid] < find: \n",
    "            l = mid + 1\n",
    "  \n",
    "        # If find is smaller, ignore right half \n",
    "        else: \n",
    "            r = mid - 1\n",
    "      \n",
    "    # If we reach here, then the element was not present \n",
    "    return -1\n",
    "\n",
    "if __name__==\"__main__\":\n",
    "    \n",
    "    # Driver Code \n",
    "    arr = [ 0, 22, 39, 47, 53, 80, 153, 999 ] \n",
    "    find = 0\n",
    "\n",
    "    # Function call \n",
    "    result = binarySearch(arr, find) \n",
    "\n",
    "    if result != -1: \n",
    "        print (\"Element is present at index % d\" % result) \n",
    "    else: \n",
    "        print (\"Element is not present in array\") "
   ]
  },
  {
   "cell_type": "code",
   "execution_count": null,
   "metadata": {},
   "outputs": [],
   "source": []
  }
 ],
 "metadata": {
  "kernelspec": {
   "display_name": "Python 3",
   "language": "python",
   "name": "python3"
  },
  "language_info": {
   "codemirror_mode": {
    "name": "ipython",
    "version": 3
   },
   "file_extension": ".py",
   "mimetype": "text/x-python",
   "name": "python",
   "nbconvert_exporter": "python",
   "pygments_lexer": "ipython3",
   "version": "3.7.0"
  }
 },
 "nbformat": 4,
 "nbformat_minor": 2
}
