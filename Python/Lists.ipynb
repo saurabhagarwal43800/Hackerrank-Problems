{
 "cells": [
  {
   "cell_type": "markdown",
   "metadata": {},
   "source": [
    "# Lists"
   ]
  },
  {
   "cell_type": "markdown",
   "metadata": {},
   "source": [
    "Consider a list (list = []). You can perform the following commands:  \n",
    "\n",
    "__insert i e:__ Insert integer e at position i.  \n",
    "__print:__ Print the list.  \n",
    "__remove e:__ Delete the first occurrence of integer e.  \n",
    "__append e:__ Insert integer e at the end of the list.  \n",
    "__sort:__ Sort the list.  \n",
    "__pop:__ Pop the last element from the list.  \n",
    "__reverse:__ Reverse the list.  \n",
    "Initialize your list and read in the value of n followed by n lines of commands where each command will be of the 7 types listed above. Iterate through each command in order and perform the corresponding operation on your list."
   ]
  },
  {
   "cell_type": "markdown",
   "metadata": {},
   "source": [
    "__Input Format__  \n",
    "\n",
    "The first line contains an integer, , denoting the number of commands.  \n",
    "Each line  of the  subsequent lines contains one of the commands described above.  \n",
    "\n",
    "__Constraints__  \n",
    "\n",
    "The elements added to the list must be integers.  \n",
    "\n",
    "__Output Format__\n",
    "\n",
    "For each command of type print, print the list on a new line.  \n",
    "\n",
    "__Sample Input 0__\n",
    "\n",
    "12  \n",
    "insert 0 5  \n",
    "insert 1 10  \n",
    "insert 0 6  \n",
    "print  \n",
    "remove 6  \n",
    "append 9  \n",
    "append 1  \n",
    "sort  \n",
    "print  \n",
    "pop  \n",
    "reverse  \n",
    "print  \n",
    "\n",
    "__Sample Output 0__  \n",
    "\n",
    "[6, 5, 10]  \n",
    "[1, 5, 9, 10]  \n",
    "[9, 5, 1]"
   ]
  },
  {
   "cell_type": "code",
   "execution_count": 1,
   "metadata": {},
   "outputs": [
    {
     "name": "stderr",
     "output_type": "stream",
     "text": [
      "C:\\Users\\500060783\\AppData\\Local\\Continuum\\anaconda3\\lib\\site-packages\\ipykernel\\parentpoller.py:116: UserWarning: Parent poll failed.  If the frontend dies,\n",
      "                the kernel may be left running.  Please let us know\n",
      "                about your system (bitness, Python, etc.) at\n",
      "                ipython-dev@scipy.org\n",
      "  ipython-dev@scipy.org\"\"\")\n"
     ]
    },
    {
     "name": "stdout",
     "output_type": "stream",
     "text": [
      "3\n",
      "insert 0 2\n",
      "insert 0 4\n",
      "print\n",
      "[4, 2]\n"
     ]
    }
   ],
   "source": [
    "if __name__ == '__main__':\n",
    "    N = int(input())\n",
    "    list=[]\n",
    "    for i in range(0,N):\n",
    "        command=input().split(\" \")\n",
    "        if command[0]==\"insert\":\n",
    "            list.insert(int(command[1]),int(command[2]))\n",
    "        elif command[0]==\"print\":\n",
    "            print(list)\n",
    "        elif command[0]==\"remove\":\n",
    "            list.remove(int(command[1]))\n",
    "        elif command[0]==\"append\":\n",
    "            list.append(int(command[1]))\n",
    "        elif command[0]==\"sort\":\n",
    "            list.sort()\n",
    "        elif command[0]==\"pop\":\n",
    "            list.pop()\n",
    "        elif command[0]==\"reverse\":\n",
    "            list.reverse()\n",
    "        command=[]"
   ]
  },
  {
   "cell_type": "code",
   "execution_count": null,
   "metadata": {},
   "outputs": [],
   "source": []
  }
 ],
 "metadata": {
  "kernelspec": {
   "display_name": "Python 3",
   "language": "python",
   "name": "python3"
  },
  "language_info": {
   "codemirror_mode": {
    "name": "ipython",
    "version": 3
   },
   "file_extension": ".py",
   "mimetype": "text/x-python",
   "name": "python",
   "nbconvert_exporter": "python",
   "pygments_lexer": "ipython3",
   "version": "3.7.0"
  }
 },
 "nbformat": 4,
 "nbformat_minor": 2
}
