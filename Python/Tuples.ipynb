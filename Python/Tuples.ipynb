{
 "cells": [
  {
   "cell_type": "markdown",
   "metadata": {},
   "source": [
    "# Tuples"
   ]
  },
  {
   "cell_type": "markdown",
   "metadata": {},
   "source": [
    "Task\n",
    "Given an integer, n, and n space-separated integers as input, create a tuple, t, of those n integers. Then compute and print the result of hash(t).\n",
    "\n",
    "Note: hash() is one of the functions in the __builtins__ module, so it need not be imported."
   ]
  },
  {
   "cell_type": "markdown",
   "metadata": {},
   "source": [
    "__Input Format__  \n",
    "\n",
    "The first line contains an integer, n, denoting the number of elements in the tuple.  \n",
    "The second line contains n space-separated integers describing the elements in tuple t.    \n",
    "\n",
    "__Output Format__  \n",
    "\n",
    "Print the result of hash(t).  \n",
    "\n",
    "__Sample Input 0__  \n",
    "\n",
    "2  \n",
    "1 2  \n",
    "\n",
    "__Sample Output 0__  \n",
    "\n",
    "3713081631934410656"
   ]
  },
  {
   "cell_type": "code",
   "execution_count": 11,
   "metadata": {},
   "outputs": [
    {
     "name": "stdout",
     "output_type": "stream",
     "text": [
      "2\n",
      "1 3\n",
      "3713081631933328131\n"
     ]
    }
   ],
   "source": [
    "if __name__ == '__main__':\n",
    "    n = int(input())\n",
    "    integer_list = tuple(map(int, input().split()))\n",
    "    print(str(hash(integer_list)))\n"
   ]
  }
 ],
 "metadata": {
  "kernelspec": {
   "display_name": "Python 3",
   "language": "python",
   "name": "python3"
  },
  "language_info": {
   "codemirror_mode": {
    "name": "ipython",
    "version": 3
   },
   "file_extension": ".py",
   "mimetype": "text/x-python",
   "name": "python",
   "nbconvert_exporter": "python",
   "pygments_lexer": "ipython3",
   "version": "3.7.0"
  }
 },
 "nbformat": 4,
 "nbformat_minor": 2
}
