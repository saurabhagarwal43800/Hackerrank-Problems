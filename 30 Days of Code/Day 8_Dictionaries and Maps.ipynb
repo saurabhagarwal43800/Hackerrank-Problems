{
 "cells": [
  {
   "cell_type": "markdown",
   "metadata": {},
   "source": [
    "# Day 8: Dictionaries and Maps"
   ]
  },
  {
   "cell_type": "markdown",
   "metadata": {},
   "source": [
    "### Task\n",
    "Given n names and phone numbers, assemble a phone book that maps friends' names to their respective phone numbers. You will then be given an unknown number of names to query your phone book for. For each name queried, print the associated entry from your phone book on a new line in the form name=phoneNumber; if an entry for name is not found, print Not found instead.  \n",
    "\n",
    "Note: Your phone book should be a Dictionary/Map/HashMap data structure.  \n",
    "\n",
    "### Input Format  \n",
    "\n",
    "The first line contains an integer, n, denoting the number of entries in the phone book.  \n",
    "Each of the n subsequent lines describes an entry in the form of 2 space-separated values on a single line. The first value is a friend's name, and the second value is an 8-digit phone number.  \n",
    "\n",
    "After the n lines of phone book entries, there are an unknown number of lines of queries. Each line (query) contains a name to look up, and you must continue reading lines until there is no more input.\n",
    "\n",
    "Note: Names consist of lowercase English alphabetic letters and are first names only.  \n",
    "\n",
    "### Output Format  \n",
    "\n",
    "On a new line for each query, print Not found if the name has no corresponding entry in the phone book; otherwise, print the full name and phoneNumber in the format name=phoneNumber.  \n",
    "\n",
    "### Sample Input\n",
    "\n",
    "3  \n",
    "sam 99912222  \n",
    "tom 11122222  \n",
    "harry 12299933  \n",
    "sam  \n",
    "edward  \n",
    "harry  \n",
    "\n",
    "### Sample Output  \n",
    "\n",
    "sam=99912222  \n",
    "Not found  \n",
    "harry=12299933  \n",
    "\n",
    "### Main Code"
   ]
  },
  {
   "cell_type": "code",
   "execution_count": 1,
   "metadata": {},
   "outputs": [
    {
     "name": "stdout",
     "output_type": "stream",
     "text": [
      "3\n",
      "sam 12345678\n",
      "tom 23456789\n",
      "harry 12349876\n",
      "sam\n",
      "sam=12345678\n",
      "saurabh\n",
      "Not found\n",
      "piyush\n",
      "Not found\n",
      "harry\n",
      "harry=12349876\n",
      "tom\n",
      "tom=23456789\n",
      "\n"
     ]
    }
   ],
   "source": [
    "n=int(input())\n",
    "arr={}\n",
    "for i in range(n):\n",
    "    name,phone=map(str,input().split())\n",
    "    arr[name]=phone\n",
    "st = input()\n",
    "try:\n",
    "    while st!=\"\":\n",
    "        if st in arr.keys():\n",
    "            print(f\"{st}={arr[st]}\")\n",
    "        else:\n",
    "            print(\"Not found\")\n",
    "        st = input()\n",
    "except:\n",
    "    pass"
   ]
  },
  {
   "cell_type": "code",
   "execution_count": null,
   "metadata": {},
   "outputs": [],
   "source": []
  }
 ],
 "metadata": {
  "kernelspec": {
   "display_name": "Python 3",
   "language": "python",
   "name": "python3"
  },
  "language_info": {
   "codemirror_mode": {
    "name": "ipython",
    "version": 3
   },
   "file_extension": ".py",
   "mimetype": "text/x-python",
   "name": "python",
   "nbconvert_exporter": "python",
   "pygments_lexer": "ipython3",
   "version": "3.7.0"
  }
 },
 "nbformat": 4,
 "nbformat_minor": 2
}
