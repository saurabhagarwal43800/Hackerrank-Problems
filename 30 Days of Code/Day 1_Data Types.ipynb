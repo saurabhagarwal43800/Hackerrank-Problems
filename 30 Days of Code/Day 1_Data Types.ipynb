{
 "cells": [
  {
   "cell_type": "markdown",
   "metadata": {},
   "source": [
    "# Day 1: Data Types"
   ]
  },
  {
   "cell_type": "markdown",
   "metadata": {},
   "source": [
    "### Task\n",
    "Complete the code in the editor below. The variables i, d, and s are already declared and initialized for you. You must:  \n",
    "\n",
    "Declare 3 variables: one of type int, one of type double, and one of type String.  \n",
    "Read 3 lines of input from stdin (according to the sequence given in the Input Format section below) and initialize your 3 variables.  \n",
    "Use the + operator to perform the following operations:  \n",
    "Print the sum of i plus your int variable on a new line.  \n",
    "Print the sum of d plus your double variable to a scale of one decimal place on a new line.  \n",
    "Concatenate s with the string you read as input and print the result on a new line.  "
   ]
  },
  {
   "cell_type": "markdown",
   "metadata": {},
   "source": [
    "### Input Format\n",
    "\n",
    "The first line contains an integer that you must sum with i.  \n",
    "The second line contains a double that you must sum with d.  \n",
    "The third line contains a string that you must concatenate with s.  \n",
    "\n",
    "### Output Format\n",
    "\n",
    "Print the sum of both integers on the first line, the sum of both doubles (scaled to  decimal place) on the second line, and then the two concatenated strings on the third line.\n",
    "\n",
    "### Sample Input\n",
    "\n",
    "12  \n",
    "4.0  \n",
    "is the best place to learn and practice coding!  \n",
    "\n",
    "### Sample Output\n",
    "\n",
    "16  \n",
    "8.0  \n",
    "HackerRank is the best place to learn and practice coding!  \n",
    "\n",
    "### Explanation\n",
    "\n",
    "When we sum the integers 4 and 12, we get the integer 16.\n",
    "When we sum the floating-point numbers 4.0 and 4.0, we get 8.0.\n",
    "When we concatenate HackerRank with is the best place to learn and practice coding!, we get HackerRank is the best place to learn and practice coding!."
   ]
  },
  {
   "cell_type": "code",
   "execution_count": 2,
   "metadata": {},
   "outputs": [
    {
     "name": "stdout",
     "output_type": "stream",
     "text": [
      "5\n",
      "2.0\n",
      "Best Coding Platform\n",
      "9\n",
      "6.0\n",
      "HackerRank Best Coding Platform\n"
     ]
    }
   ],
   "source": [
    "i = 4\n",
    "d = 4.0\n",
    "s = 'HackerRank '\n",
    "# Declare second integer, double, and String variables.\n",
    "inp1 = int(input())\n",
    "inp2 = float(input())\n",
    "inp3 = str(input())\n",
    "# Read and save an integer, double, and String to your variables.\n",
    "\n",
    "# Print the sum of both integer variables on a new line.\n",
    "print(i+inp1)\n",
    "# Print the sum of the double variables on a new line.\n",
    "print(d+inp2)\n",
    "# Concatenate and print the String variables on a new line\n",
    "# The 's' variable above should be printed first.\n",
    "print(s+inp3)\n"
   ]
  },
  {
   "cell_type": "code",
   "execution_count": null,
   "metadata": {},
   "outputs": [],
   "source": []
  }
 ],
 "metadata": {
  "kernelspec": {
   "display_name": "Python 3",
   "language": "python",
   "name": "python3"
  },
  "language_info": {
   "codemirror_mode": {
    "name": "ipython",
    "version": 3
   },
   "file_extension": ".py",
   "mimetype": "text/x-python",
   "name": "python",
   "nbconvert_exporter": "python",
   "pygments_lexer": "ipython3",
   "version": "3.7.0"
  }
 },
 "nbformat": 4,
 "nbformat_minor": 2
}
