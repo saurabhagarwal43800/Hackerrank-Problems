{
 "cells": [
  {
   "cell_type": "markdown",
   "metadata": {},
   "source": [
    "# Day 3: Intro to Conditional Statements"
   ]
  },
  {
   "cell_type": "markdown",
   "metadata": {},
   "source": [
    "### Task\n",
    "Given an integer, n, perform the following conditional actions:  \n",
    "\n",
    "If n is odd, print Weird  \n",
    "If n is even and in the inclusive range of 2 to 5, print Not Weird  \n",
    "If n is even and in the inclusive range of 6 to 20, print Weird  \n",
    "If n is even and greater than 20, print Not Weird  \n",
    "\n",
    "Complete the stub code provided in your editor to print whether or not n is weird.  \n",
    "\n",
    "### Input Format  \n",
    "\n",
    "A single line containing a positive integer, n.  \n",
    "\n",
    "### Output Format\n",
    "\n",
    "Print Weird if the number is weird; otherwise, print Not Weird.\n",
    "\n",
    "### Sample Input\n",
    "\n",
    "3\n",
    "\n",
    "### Sample Output\n",
    "\n",
    "Weird"
   ]
  },
  {
   "cell_type": "code",
   "execution_count": 1,
   "metadata": {},
   "outputs": [
    {
     "name": "stdout",
     "output_type": "stream",
     "text": [
      "17\n",
      "Weird\n"
     ]
    }
   ],
   "source": [
    "#!/bin/python3\n",
    "\n",
    "import math\n",
    "import os\n",
    "import random\n",
    "import re\n",
    "import sys\n",
    "\n",
    "\n",
    "\n",
    "if __name__ == '__main__':\n",
    "    N = int(input())\n",
    "    if N%2!=0:\n",
    "        print(\"Weird\")\n",
    "    else:\n",
    "        if N>=2 and N<=5:\n",
    "            print(\"Not Weird\")\n",
    "        elif N>=6 and N<=20:\n",
    "            print(\"Weird\")\n",
    "        elif N>20:\n",
    "            print(\"Not Weird\")\n"
   ]
  },
  {
   "cell_type": "code",
   "execution_count": null,
   "metadata": {},
   "outputs": [],
   "source": []
  }
 ],
 "metadata": {
  "kernelspec": {
   "display_name": "Python 3",
   "language": "python",
   "name": "python3"
  },
  "language_info": {
   "codemirror_mode": {
    "name": "ipython",
    "version": 3
   },
   "file_extension": ".py",
   "mimetype": "text/x-python",
   "name": "python",
   "nbconvert_exporter": "python",
   "pygments_lexer": "ipython3",
   "version": "3.7.0"
  }
 },
 "nbformat": 4,
 "nbformat_minor": 2
}
