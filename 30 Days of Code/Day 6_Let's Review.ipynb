{
 "cells": [
  {
   "cell_type": "markdown",
   "metadata": {},
   "source": [
    "# Day 6: Let's Review"
   ]
  },
  {
   "cell_type": "markdown",
   "metadata": {},
   "source": [
    "### Task  \n",
    "Given a string, S, of length N that is indexed from 0 to N-1, print its even-indexed and odd-indexed characters as 2 space-separated strings on a single line (see the Sample below for more detail).  \n",
    "\n",
    "Note: 0 is considered to be an even index.  \n",
    "\n",
    "### Input Format\n",
    "\n",
    "The first line contains an integer, T (the number of test cases).  \n",
    "Each line i of the T subsequent lines contain a String, S.  \n",
    "\n",
    "### Constraints  \n",
    "1 <= T <= 10  \n",
    "2 <= Length of S <= 10000  \n",
    "\n",
    "### Output Format\n",
    "\n",
    "For each String Sj (where 0<=j<=T-1), print Sj's even-indexed characters, followed by a space, followed by Sj's odd-indexed characters.  \n",
    "\n",
    "### Sample Input\n",
    "\n",
    "2  \n",
    "Hacker  \n",
    "Rank  \n",
    "\n",
    "### Sample Output\n",
    "\n",
    "Hce akr  \n",
    "Rn ak  \n",
    "\n",
    "### Main Code  "
   ]
  },
  {
   "cell_type": "code",
   "execution_count": 2,
   "metadata": {},
   "outputs": [
    {
     "name": "stdout",
     "output_type": "stream",
     "text": [
      "1\n",
      "Saurabh Agarwal\n",
      "SuahAawl arb gra\n"
     ]
    }
   ],
   "source": [
    "# Enter your code here. Read input from STDIN. Print output to STDOUT\n",
    "n=int(input())\n",
    "for i in range(n):\n",
    "    s=input()\n",
    "    print(s[0::2],s[1::2])"
   ]
  },
  {
   "cell_type": "code",
   "execution_count": null,
   "metadata": {},
   "outputs": [],
   "source": []
  }
 ],
 "metadata": {
  "kernelspec": {
   "display_name": "Python 3",
   "language": "python",
   "name": "python3"
  },
  "language_info": {
   "codemirror_mode": {
    "name": "ipython",
    "version": 3
   },
   "file_extension": ".py",
   "mimetype": "text/x-python",
   "name": "python",
   "nbconvert_exporter": "python",
   "pygments_lexer": "ipython3",
   "version": "3.7.0"
  }
 },
 "nbformat": 4,
 "nbformat_minor": 2
}
