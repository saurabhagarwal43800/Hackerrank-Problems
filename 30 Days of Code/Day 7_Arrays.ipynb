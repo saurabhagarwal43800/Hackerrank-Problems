{
 "cells": [
  {
   "cell_type": "markdown",
   "metadata": {},
   "source": [
    "# Day 7: Arrays"
   ]
  },
  {
   "cell_type": "markdown",
   "metadata": {},
   "source": [
    "### Task\n",
    "Given an array, A, of N integers, print A's elements in reverse order as a single line of space-separated numbers.  \n",
    "\n",
    "### Input Format\n",
    "\n",
    "The first line contains an integer, N (the size of our array).  \n",
    "The second line contains N space-separated integers describing array A's elements.  \n",
    "\n",
    "### Constraints\n",
    "\n",
    "1<=N<=1000\n",
    "1<=Ai<=10000, where Ai is the ith integer in the array.  \n",
    "\n",
    "### Output Format\n",
    "\n",
    "Print the elements of array A in reverse order as a single line of space-separated numbers.  \n",
    "\n",
    "### Sample Input\n",
    "\n",
    "4  \n",
    "1 4 3 2  \n",
    "\n",
    "### Sample Output\n",
    "\n",
    "2 3 4 1  "
   ]
  },
  {
   "cell_type": "code",
   "execution_count": 1,
   "metadata": {},
   "outputs": [
    {
     "name": "stdout",
     "output_type": "stream",
     "text": [
      "4\n",
      "1 4 3 2\n",
      "2 3 4 1 "
     ]
    }
   ],
   "source": [
    "#!/bin/python3\n",
    "\n",
    "import math\n",
    "import os\n",
    "import random\n",
    "import re\n",
    "import sys\n",
    "\n",
    "\n",
    "\n",
    "if __name__ == '__main__':\n",
    "    n = int(input())\n",
    "\n",
    "    arr = list(map(int, input().rstrip().split()))\n",
    "    arr.reverse()\n",
    "    for i in range(n):\n",
    "        print(arr[i], end=' ')\n"
   ]
  },
  {
   "cell_type": "code",
   "execution_count": null,
   "metadata": {},
   "outputs": [],
   "source": []
  }
 ],
 "metadata": {
  "kernelspec": {
   "display_name": "Python 3",
   "language": "python",
   "name": "python3"
  },
  "language_info": {
   "codemirror_mode": {
    "name": "ipython",
    "version": 3
   },
   "file_extension": ".py",
   "mimetype": "text/x-python",
   "name": "python",
   "nbconvert_exporter": "python",
   "pygments_lexer": "ipython3",
   "version": "3.7.0"
  }
 },
 "nbformat": 4,
 "nbformat_minor": 2
}
