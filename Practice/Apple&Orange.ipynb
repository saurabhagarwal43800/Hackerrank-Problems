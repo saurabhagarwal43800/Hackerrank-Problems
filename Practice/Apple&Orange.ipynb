{
 "cells": [
  {
   "cell_type": "markdown",
   "metadata": {},
   "source": [
    "# Apple and Orange"
   ]
  },
  {
   "cell_type": "markdown",
   "metadata": {},
   "source": [
    "Sam's house has an apple tree and an orange tree that yield an abundance of fruit. In the diagram below, the red region denotes his house, where s is the start point, and t is the endpoint. The apple tree is to the left of his house, and the orange tree is to its right. You can assume the trees are located on a single point, where the apple tree is at point a, and the orange tree is at point b.    \n",
    "\n",
    "When a fruit falls from its tree, it lands d units of distance from its tree of origin along the x-axis. A negative value of  means the fruit fell d units to the tree's left, and a positive value of d means it falls d units to the tree's right.\n",
    "\n",
    "Given the value of d for m apples and n oranges, determine how many apples and oranges will fall on Sam's house (i.e., in the inclusive range [s,t])?"
   ]
  },
  {
   "cell_type": "markdown",
   "metadata": {},
   "source": [
    "__Input Format__\n",
    "\n",
    "The first line contains two space-separated integers denoting the respective values of s and t.  \n",
    "The second line contains two space-separated integers denoting the respective values of m and n.  \n",
    "The third line contains two space-separated integers denoting the respective values of a and b.  \n",
    "The fourth line contains m space-separated integers denoting the respective distances that each apple falls from point a.  \n",
    "The fifth line contains n space-separated integers denoting the respective distances that each orange falls from point b.  "
   ]
  },
  {
   "cell_type": "markdown",
   "metadata": {},
   "source": [
    "__Output Format__\n",
    "\n",
    "Print two integers on two different lines:  \n",
    "\n",
    "1. The first integer: the number of apples that fall on Sam's house.  \n",
    "2. The second integer: the number of oranges that fall on Sam's house.  "
   ]
  },
  {
   "cell_type": "markdown",
   "metadata": {},
   "source": [
    "__Sample Input 0__\n",
    "\n",
    "7 11  \n",
    "5 15  \n",
    "3 2  \n",
    "-2 2 1  \n",
    "5 -6  "
   ]
  },
  {
   "cell_type": "markdown",
   "metadata": {},
   "source": [
    "__Sample Output 0__\n",
    "\n",
    "1  \n",
    "1  "
   ]
  },
  {
   "cell_type": "code",
   "execution_count": 1,
   "metadata": {},
   "outputs": [
    {
     "name": "stdout",
     "output_type": "stream",
     "text": [
      "7 11\n",
      "5 15\n",
      "3 2\n",
      "-2 2 1\n",
      "5 -6\n",
      "1\n",
      "1\n"
     ]
    }
   ],
   "source": [
    "#!/bin/python3\n",
    "\n",
    "import math\n",
    "import os\n",
    "import random\n",
    "import re\n",
    "import sys\n",
    "\n",
    "# Complete the countApplesAndOranges function below.\n",
    "def countApplesAndOranges(s, t, a, b, apples, oranges):\n",
    "    i=0\n",
    "    apples_pos=0\n",
    "    oranges_pos=0\n",
    "    apples_count=0\n",
    "    oranges_count=0\n",
    "    while i<len(apples):\n",
    "        apples_pos=(apples[i]+a)\n",
    "        if apples_pos>=s and apples_pos<=t:\n",
    "            apples_count+=1\n",
    "        i+=1\n",
    "    i=0\n",
    "    while i<len(oranges):\n",
    "        oranges_pos=(oranges[i]+b)\n",
    "        if oranges_pos>=s and oranges_pos<=t:\n",
    "            oranges_count+=1\n",
    "        i+=1\n",
    "   \n",
    "    print(apples_count)\n",
    "    print(oranges_count)\n",
    "\n",
    "if __name__ == '__main__':\n",
    "    st = input().split()\n",
    "\n",
    "    s = int(st[0])\n",
    "\n",
    "    t = int(st[1])\n",
    "\n",
    "    ab = input().split()\n",
    "\n",
    "    a = int(ab[0])\n",
    "\n",
    "    b = int(ab[1])\n",
    "\n",
    "    mn = input().split()\n",
    "\n",
    "    m = int(mn[0])\n",
    "\n",
    "    n = int(mn[1])\n",
    "\n",
    "    apples = list(map(int, input().rstrip().split()))\n",
    "\n",
    "    oranges = list(map(int, input().rstrip().split()))\n",
    "\n",
    "    countApplesAndOranges(s, t, a, b, apples, oranges)\n"
   ]
  },
  {
   "cell_type": "code",
   "execution_count": null,
   "metadata": {},
   "outputs": [],
   "source": []
  }
 ],
 "metadata": {
  "kernelspec": {
   "display_name": "Python 3",
   "language": "python",
   "name": "python3"
  },
  "language_info": {
   "codemirror_mode": {
    "name": "ipython",
    "version": 3
   },
   "file_extension": ".py",
   "mimetype": "text/x-python",
   "name": "python",
   "nbconvert_exporter": "python",
   "pygments_lexer": "ipython3",
   "version": "3.7.0"
  }
 },
 "nbformat": 4,
 "nbformat_minor": 2
}
