{
 "cells": [
  {
   "cell_type": "markdown",
   "metadata": {},
   "source": [
    "# Grading Stuents"
   ]
  },
  {
   "cell_type": "markdown",
   "metadata": {},
   "source": [
    "HackerLand University has the following grading policy:\n",
    "\n",
    "Every student receives a grade in the inclusive range from 0 to 100.\n",
    "Any grade less than 40 is a failing grade.\n",
    "Sam is a professor at the university and likes to round each student's grade according to these rules:\n",
    "\n",
    "If the difference between the grade and the next multiple of 5 is less than 3, round  up to the next multiple of 5.\n",
    "If the value of grade is less than 38, no rounding occurs as the result will still be a failing grade.\n",
    "For example, grade=84 will be rounded to 85 but grade=29 will not be rounded because the rounding would result in a number that is less than 40.\n",
    "\n",
    "Given the initial value of grade for each of Sam's n students, write code to automate the rounding process."
   ]
  },
  {
   "cell_type": "markdown",
   "metadata": {},
   "source": [
    "__Input Format__  \n",
    "\n",
    "The first line contains a single integer, n, the number of students.\n",
    "Each line n of the i subsequent lines contains a single integer, grades[i], denoting student i's grade."
   ]
  },
  {
   "cell_type": "markdown",
   "metadata": {},
   "source": [
    "__Output Format__  \n",
    "\n",
    "For each grades[i], print the rounded grade on a new line."
   ]
  },
  {
   "cell_type": "code",
   "execution_count": 10,
   "metadata": {},
   "outputs": [
    {
     "name": "stdout",
     "output_type": "stream",
     "text": [
      "2\n",
      "12\n",
      "23\n",
      "\n",
      "Output:\n",
      "12\n",
      "23\n"
     ]
    }
   ],
   "source": [
    "#!/bin/python3\n",
    "\n",
    "import math\n",
    "import os\n",
    "import random\n",
    "import re\n",
    "import sys\n",
    "\n",
    "#\n",
    "# Complete the 'gradingStudents' function below.\n",
    "#\n",
    "# The function is expected to return an INTEGER_ARRAY.\n",
    "# The function accepts INTEGER_ARRAY grades as parameter.\n",
    "#\n",
    "\n",
    "def gradingStudents(grades):\n",
    "    final_grade=[]\n",
    "    for i in grades:\n",
    "        rem=i%5\n",
    "        quot=i//5\n",
    "        if rem>=3 and i>=38:\n",
    "            final_grade.append((quot+1)*5)\n",
    "        else:\n",
    "            final_grade.append(i)\n",
    "    return final_grade\n",
    "\n",
    "\n",
    "if __name__ == '__main__':\n",
    "    \n",
    "    grades_count = int(input().strip())\n",
    "    grades = []\n",
    "    for _ in range(grades_count):\n",
    "        grades_item = int(input().strip())\n",
    "        grades.append(grades_item)\n",
    "    result = gradingStudents(grades)\n",
    "    print(\"\\nOutput:\")\n",
    "    for i in result:\n",
    "        print(i)"
   ]
  },
  {
   "cell_type": "code",
   "execution_count": null,
   "metadata": {},
   "outputs": [],
   "source": []
  }
 ],
 "metadata": {
  "kernelspec": {
   "display_name": "Python 3",
   "language": "python",
   "name": "python3"
  },
  "language_info": {
   "codemirror_mode": {
    "name": "ipython",
    "version": 3
   },
   "file_extension": ".py",
   "mimetype": "text/x-python",
   "name": "python",
   "nbconvert_exporter": "python",
   "pygments_lexer": "ipython3",
   "version": "3.7.0"
  }
 },
 "nbformat": 4,
 "nbformat_minor": 2
}
