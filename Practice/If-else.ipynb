{
 "cells": [
  {
   "cell_type": "markdown",
   "metadata": {},
   "source": [
    "# Python If-else"
   ]
  },
  {
   "cell_type": "markdown",
   "metadata": {},
   "source": [
    "Given an integer, n, perform the following conditional actions:  \n",
    "\n",
    "If n is odd, print Weird  \n",
    "If n is even and in the inclusive range of 2 to 5, print Not Weird  \n",
    "If n is even and in the inclusive range of 6 to 20, print Weird  \n",
    "If n is even and greater than 20, print Not Weird  "
   ]
  },
  {
   "cell_type": "markdown",
   "metadata": {},
   "source": [
    "__Input Format__  \n",
    "\n",
    "A single line containing a positive integer, n.  "
   ]
  },
  {
   "cell_type": "markdown",
   "metadata": {},
   "source": [
    "__Output Format__  \n",
    "\n",
    "Print Weird if the number is weird; otherwise, print Not Weird."
   ]
  },
  {
   "cell_type": "code",
   "execution_count": 4,
   "metadata": {},
   "outputs": [
    {
     "name": "stdout",
     "output_type": "stream",
     "text": [
      "3\n",
      "Weird\n"
     ]
    }
   ],
   "source": [
    "#!/bin/python3\n",
    "\n",
    "import math\n",
    "import os\n",
    "import random\n",
    "import re\n",
    "import sys\n",
    "\n",
    "\n",
    "\n",
    "if __name__ == '__main__':\n",
    "    n = int(input().strip())\n",
    "    if n%2!=0:\n",
    "        print(\"Weird\")\n",
    "    else:\n",
    "        if n>=2 and n<=5:\n",
    "            print(\"Not Weird\")\n",
    "        elif n>=6 and n<=20:\n",
    "            print(\"Weird\")\n",
    "        elif n>20:\n",
    "            print(\"Not Weird\")\n"
   ]
  },
  {
   "cell_type": "code",
   "execution_count": null,
   "metadata": {},
   "outputs": [],
   "source": []
  }
 ],
 "metadata": {
  "kernelspec": {
   "display_name": "Python 3",
   "language": "python",
   "name": "python3"
  }
 },
 "nbformat": 4,
 "nbformat_minor": 2
}
