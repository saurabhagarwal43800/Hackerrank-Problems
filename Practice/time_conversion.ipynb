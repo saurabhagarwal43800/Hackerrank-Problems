{
 "cells": [
  {
   "cell_type": "markdown",
   "metadata": {},
   "source": [
    "# Time Conversion"
   ]
  },
  {
   "cell_type": "markdown",
   "metadata": {},
   "source": [
    "Given a time in 12-hour AM/PM format, convert it to military (24-hour) time.\n",
    "\n",
    "Note: Midnight is 12:00:00AM on a 12-hour clock, and 00:00:00 on a 24-hour clock. Noon is 12:00:00PM on a 12-hour clock, and 12:00:00 on a 24-hour clock."
   ]
  },
  {
   "cell_type": "markdown",
   "metadata": {},
   "source": [
    "__Function Description__\n",
    "\n",
    "Complete the timeConversion function in the editor below. It should return a new string representing the input time in 24 hour format.\n",
    "\n",
    "timeConversion has the following parameter(s):\n",
    "\n",
    "s: a string representing time in  hour format"
   ]
  },
  {
   "cell_type": "markdown",
   "metadata": {},
   "source": [
    "__Input Format__  \n",
    "A single string  containing a time in 12-hour clock format (i.e.:hh:mm:ssAM or hh:mm:ss:PM), where 01<=hh<=12 and 00<=mm,ss<=59."
   ]
  },
  {
   "cell_type": "markdown",
   "metadata": {},
   "source": [
    "__Output Format__  \n",
    "\n",
    "Convert and print the given time in 24-hour format, where 00<=hh<=23."
   ]
  },
  {
   "cell_type": "code",
   "execution_count": 29,
   "metadata": {},
   "outputs": [
    {
     "name": "stdout",
     "output_type": "stream",
     "text": [
      "Enter the time format in hh:mm:ssAM/PM 1:21:31AM\n",
      "1:21:31\n"
     ]
    }
   ],
   "source": [
    "#!/bin/python3\n",
    "\n",
    "import os\n",
    "import sys\n",
    "\n",
    "#\n",
    "# Complete the timeConversion function below.\n",
    "#\n",
    "def timeConversion(s):\n",
    "    #\n",
    "    time=s.split(':')\n",
    "    ss=time[2][0:2]\n",
    "    format=time[2][2:4]\n",
    "    if format==\"AM\":\n",
    "        if time[0]=='12':\n",
    "            time[0]=\"00\"\n",
    "            return time[0]+\":\"+time[1]+\":\"+ss\n",
    "        else:\n",
    "            return time[0]+\":\"+time[1]+\":\"+ss\n",
    "\n",
    "    if format==\"PM\":\n",
    "        if time[0]=='12':\n",
    "            time[0]=\"12\"\n",
    "            return time[0]+\":\"+time[1]+\":\"+ss\n",
    "        else:\n",
    "            time[0]=(int(time[0])+12)\n",
    "            return str(time[0])+\":\"+time[1]+\":\"+ss\n",
    "\n",
    "if __name__ == '__main__':\n",
    "    s = input(\"Enter the time format in hh:mm:ssAM/PM \")\n",
    "    result = timeConversion(s)\n",
    "    print(result)"
   ]
  },
  {
   "cell_type": "code",
   "execution_count": null,
   "metadata": {},
   "outputs": [],
   "source": []
  }
 ],
 "metadata": {
  "kernelspec": {
   "display_name": "Python 3",
   "language": "python",
   "name": "python3"
  },
  "language_info": {
   "codemirror_mode": {
    "name": "ipython",
    "version": 3
   },
   "file_extension": ".py",
   "mimetype": "text/x-python",
   "name": "python",
   "nbconvert_exporter": "python",
   "pygments_lexer": "ipython3",
   "version": "3.7.0"
  }
 },
 "nbformat": 4,
 "nbformat_minor": 2
}
